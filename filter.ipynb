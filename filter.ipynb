{
 "cells": [
  {
   "cell_type": "markdown",
   "source": [
    "# GWAS catalog filtering notebook\n",
    "\n",
    "The purpose of this notebook is to filter GWAS associations and traits based on the curation comments and our needs"
   ],
   "metadata": {
    "collapsed": false
   }
  },
  {
   "cell_type": "code",
   "execution_count": 64,
   "outputs": [],
   "source": [
    "import polars as pl\n",
    "from pathlib import *"
   ],
   "metadata": {
    "collapsed": false
   }
  },
  {
   "cell_type": "markdown",
   "source": [
    "### Setting up paths"
   ],
   "metadata": {
    "collapsed": false
   }
  },
  {
   "cell_type": "code",
   "execution_count": 82,
   "metadata": {},
   "outputs": [],
   "source": [
    "base = Path(\".\")\n",
    "data = base / \"data\"\n",
    "input = data / \"input\"\n",
    "output = data / \"output\""
   ]
  },
  {
   "cell_type": "raw",
   "source": [
    "Let's load traits the dataframe with curators comments"
   ],
   "metadata": {
    "collapsed": false
   }
  },
  {
   "cell_type": "code",
   "execution_count": 42,
   "outputs": [
    {
     "data": {
      "text/plain": "shape: (3, 6)\n┌────────────────────┬────────────────────┬─────────┬───────────────────┬────────┬─────────────────┐\n│ trait              ┆ trait_uri          ┆ studies ┆ association_count ┆ papers ┆ Olga's comments │\n│ ---                ┆ ---                ┆ ---     ┆ s                 ┆ ---    ┆ ---             │\n│ str                ┆ str                ┆ i64     ┆ ---               ┆ i64    ┆ str             │\n│                    ┆                    ┆         ┆ i64               ┆        ┆                 │\n╞════════════════════╪════════════════════╪═════════╪═══════════════════╪════════╪═════════════════╡\n│ clinical treatment ┆ http://www.ebi.ac. ┆ 687     ┆ 31                ┆ 687    ┆ null            │\n│                    ┆ uk/efo/EFO_000...  ┆         ┆                   ┆        ┆                 │\n├╌╌╌╌╌╌╌╌╌╌╌╌╌╌╌╌╌╌╌╌┼╌╌╌╌╌╌╌╌╌╌╌╌╌╌╌╌╌╌╌╌┼╌╌╌╌╌╌╌╌╌┼╌╌╌╌╌╌╌╌╌╌╌╌╌╌╌╌╌╌╌┼╌╌╌╌╌╌╌╌┼╌╌╌╌╌╌╌╌╌╌╌╌╌╌╌╌╌┤\n│ employment status  ┆ http://www.ebi.ac. ┆ 687     ┆ 10                ┆ 687    ┆ null            │\n│                    ┆ uk/efo/EFO_000...  ┆         ┆                   ┆        ┆                 │\n├╌╌╌╌╌╌╌╌╌╌╌╌╌╌╌╌╌╌╌╌┼╌╌╌╌╌╌╌╌╌╌╌╌╌╌╌╌╌╌╌╌┼╌╌╌╌╌╌╌╌╌┼╌╌╌╌╌╌╌╌╌╌╌╌╌╌╌╌╌╌╌┼╌╌╌╌╌╌╌╌┼╌╌╌╌╌╌╌╌╌╌╌╌╌╌╌╌╌┤\n│ cortical thickness ┆ http://www.ebi.ac. ┆ 325     ┆ 1292              ┆ 325    ┆ null            │\n│                    ┆ uk/efo/EFO_000...  ┆         ┆                   ┆        ┆                 │\n└────────────────────┴────────────────────┴─────────┴───────────────────┴────────┴─────────────────┘",
      "text/html": "<div>\n<style scoped>\n    .dataframe tbody tr th:only-of-type {\n        vertical-align: middle;\n    }\n\n    .dataframe tbody tr th {\n        vertical-align: top;\n    }\n\n    .dataframe thead th {\n        text-align: right;\n    }\n\n    .dataframe td {\n        white-space: pre;\n    }\n\n    .dataframe td {\n        padding-top: 0;\n    }\n\n    .dataframe td {\n        padding-bottom: 0;\n    }\n\n    .dataframe td {\n        line-height: 95%;\n    }\n</style>\n<table border=\"1\" class=\"dataframe\">\n<small>shape: (3, 6)</small>\n<thead>\n<tr>\n<th>\ntrait\n</th>\n<th>\ntrait_uri\n</th>\n<th>\nstudies\n</th>\n<th>\nassociation_counts\n</th>\n<th>\npapers\n</th>\n<th>\nOlga's comments\n</th>\n</tr>\n<tr>\n<td>\nstr\n</td>\n<td>\nstr\n</td>\n<td>\ni64\n</td>\n<td>\ni64\n</td>\n<td>\ni64\n</td>\n<td>\nstr\n</td>\n</tr>\n</thead>\n<tbody>\n<tr>\n<td>\n&quot;clinical treat...\n</td>\n<td>\n&quot;http://www.ebi...\n</td>\n<td>\n687\n</td>\n<td>\n31\n</td>\n<td>\n687\n</td>\n<td>\nnull\n</td>\n</tr>\n<tr>\n<td>\n&quot;employment sta...\n</td>\n<td>\n&quot;http://www.ebi...\n</td>\n<td>\n687\n</td>\n<td>\n10\n</td>\n<td>\n687\n</td>\n<td>\nnull\n</td>\n</tr>\n<tr>\n<td>\n&quot;cortical thick...\n</td>\n<td>\n&quot;http://www.ebi...\n</td>\n<td>\n325\n</td>\n<td>\n1292\n</td>\n<td>\n325\n</td>\n<td>\nnull\n</td>\n</tr>\n</tbody>\n</table>\n</div>"
     },
     "execution_count": 42,
     "metadata": {},
     "output_type": "execute_result"
    }
   ],
   "source": [
    "traits_path = input / \"traits_no_measurement.tsv\"\n",
    "traits_df = pl.read_csv(str(traits_path), sep=\"\\t\")\n",
    "traits_df.head(3)"
   ],
   "metadata": {
    "collapsed": false
   }
  },
  {
   "cell_type": "markdown",
   "source": [
    "Let's filter by curators comments and fix typos"
   ],
   "metadata": {
    "collapsed": false
   }
  },
  {
   "cell_type": "code",
   "execution_count": 76,
   "outputs": [
    {
     "data": {
      "text/plain": "shape: (10, 6)\n┌───────────────────┬───────────────────┬─────────┬───────────────────┬────────┬───────────────────┐\n│ trait             ┆ trait_uri         ┆ studies ┆ association_count ┆ papers ┆ curator_comments  │\n│ ---               ┆ ---               ┆ ---     ┆ s                 ┆ ---    ┆ ---               │\n│ str               ┆ str               ┆ i64     ┆ ---               ┆ i64    ┆ str               │\n│                   ┆                   ┆         ┆ i64               ┆        ┆                   │\n╞═══════════════════╪═══════════════════╪═════════╪═══════════════════╪════════╪═══════════════════╡\n│ type 2 diabetes   ┆ http://purl.oboli ┆ 175     ┆ 5003              ┆ 175    ┆ glucose_homeostas │\n│ mellitus          ┆ brary.org/obo/M.. ┆         ┆                   ┆        ┆ is_and_obesity    │\n│                   ┆ .                 ┆         ┆                   ┆        ┆                   │\n├╌╌╌╌╌╌╌╌╌╌╌╌╌╌╌╌╌╌╌┼╌╌╌╌╌╌╌╌╌╌╌╌╌╌╌╌╌╌╌┼╌╌╌╌╌╌╌╌╌┼╌╌╌╌╌╌╌╌╌╌╌╌╌╌╌╌╌╌╌┼╌╌╌╌╌╌╌╌┼╌╌╌╌╌╌╌╌╌╌╌╌╌╌╌╌╌╌╌┤\n│ body mass index   ┆ http://www.ebi.ac ┆ 151     ┆ 8912              ┆ 151    ┆ glucose_homeostas │\n│                   ┆ .uk/efo/EFO_000.. ┆         ┆                   ┆        ┆ is_and_obesity    │\n│                   ┆ .                 ┆         ┆                   ┆        ┆                   │\n├╌╌╌╌╌╌╌╌╌╌╌╌╌╌╌╌╌╌╌┼╌╌╌╌╌╌╌╌╌╌╌╌╌╌╌╌╌╌╌┼╌╌╌╌╌╌╌╌╌┼╌╌╌╌╌╌╌╌╌╌╌╌╌╌╌╌╌╌╌┼╌╌╌╌╌╌╌╌┼╌╌╌╌╌╌╌╌╌╌╌╌╌╌╌╌╌╌╌┤\n│ COVID-19          ┆ http://purl.oboli ┆ 123     ┆ 659               ┆ 123    ┆ lung              │\n│                   ┆ brary.org/obo/M.. ┆         ┆                   ┆        ┆                   │\n│                   ┆ .                 ┆         ┆                   ┆        ┆                   │\n├╌╌╌╌╌╌╌╌╌╌╌╌╌╌╌╌╌╌╌┼╌╌╌╌╌╌╌╌╌╌╌╌╌╌╌╌╌╌╌┼╌╌╌╌╌╌╌╌╌┼╌╌╌╌╌╌╌╌╌╌╌╌╌╌╌╌╌╌╌┼╌╌╌╌╌╌╌╌┼╌╌╌╌╌╌╌╌╌╌╌╌╌╌╌╌╌╌╌┤\n│ asthma            ┆ http://purl.oboli ┆ 112     ┆ 1475              ┆ 112    ┆ lung              │\n│                   ┆ brary.org/obo/M.. ┆         ┆                   ┆        ┆                   │\n│                   ┆ .                 ┆         ┆                   ┆        ┆                   │\n├╌╌╌╌╌╌╌╌╌╌╌╌╌╌╌╌╌╌╌┼╌╌╌╌╌╌╌╌╌╌╌╌╌╌╌╌╌╌╌┼╌╌╌╌╌╌╌╌╌┼╌╌╌╌╌╌╌╌╌╌╌╌╌╌╌╌╌╌╌┼╌╌╌╌╌╌╌╌┼╌╌╌╌╌╌╌╌╌╌╌╌╌╌╌╌╌╌╌┤\n│ ...               ┆ ...               ┆ ...     ┆ ...               ┆ ...    ┆ ...               │\n├╌╌╌╌╌╌╌╌╌╌╌╌╌╌╌╌╌╌╌┼╌╌╌╌╌╌╌╌╌╌╌╌╌╌╌╌╌╌╌┼╌╌╌╌╌╌╌╌╌┼╌╌╌╌╌╌╌╌╌╌╌╌╌╌╌╌╌╌╌┼╌╌╌╌╌╌╌╌┼╌╌╌╌╌╌╌╌╌╌╌╌╌╌╌╌╌╌╌┤\n│ systolic blood    ┆ http://www.ebi.ac ┆ 73      ┆ 3435              ┆ 73     ┆ cardiovascular    │\n│ pressure          ┆ .uk/efo/EFO_000.. ┆         ┆                   ┆        ┆                   │\n│                   ┆ .                 ┆         ┆                   ┆        ┆                   │\n├╌╌╌╌╌╌╌╌╌╌╌╌╌╌╌╌╌╌╌┼╌╌╌╌╌╌╌╌╌╌╌╌╌╌╌╌╌╌╌┼╌╌╌╌╌╌╌╌╌┼╌╌╌╌╌╌╌╌╌╌╌╌╌╌╌╌╌╌╌┼╌╌╌╌╌╌╌╌┼╌╌╌╌╌╌╌╌╌╌╌╌╌╌╌╌╌╌╌┤\n│ coronary artery   ┆ http://www.ebi.ac ┆ 72      ┆ 2408              ┆ 72     ┆ cardiovascular    │\n│ disease           ┆ .uk/efo/EFO_000.. ┆         ┆                   ┆        ┆                   │\n│                   ┆ .                 ┆         ┆                   ┆        ┆                   │\n├╌╌╌╌╌╌╌╌╌╌╌╌╌╌╌╌╌╌╌┼╌╌╌╌╌╌╌╌╌╌╌╌╌╌╌╌╌╌╌┼╌╌╌╌╌╌╌╌╌┼╌╌╌╌╌╌╌╌╌╌╌╌╌╌╌╌╌╌╌┼╌╌╌╌╌╌╌╌┼╌╌╌╌╌╌╌╌╌╌╌╌╌╌╌╌╌╌╌┤\n│ diastolic blood   ┆ http://www.ebi.ac ┆ 68      ┆ 2316              ┆ 68     ┆ cardiovascular    │\n│ pressure          ┆ .uk/efo/EFO_000.. ┆         ┆                   ┆        ┆                   │\n│                   ┆ .                 ┆         ┆                   ┆        ┆                   │\n├╌╌╌╌╌╌╌╌╌╌╌╌╌╌╌╌╌╌╌┼╌╌╌╌╌╌╌╌╌╌╌╌╌╌╌╌╌╌╌┼╌╌╌╌╌╌╌╌╌┼╌╌╌╌╌╌╌╌╌╌╌╌╌╌╌╌╌╌╌┼╌╌╌╌╌╌╌╌┼╌╌╌╌╌╌╌╌╌╌╌╌╌╌╌╌╌╌╌┤\n│ osteoarthritis    ┆ http://purl.oboli ┆ 60      ┆ 99                ┆ 60     ┆ musculoskeletal   │\n│                   ┆ brary.org/obo/M.. ┆         ┆                   ┆        ┆                   │\n│                   ┆ .                 ┆         ┆                   ┆        ┆                   │\n└───────────────────┴───────────────────┴─────────┴───────────────────┴────────┴───────────────────┘",
      "text/html": "<div>\n<style scoped>\n    .dataframe tbody tr th:only-of-type {\n        vertical-align: middle;\n    }\n\n    .dataframe tbody tr th {\n        vertical-align: top;\n    }\n\n    .dataframe thead th {\n        text-align: right;\n    }\n\n    .dataframe td {\n        white-space: pre;\n    }\n\n    .dataframe td {\n        padding-top: 0;\n    }\n\n    .dataframe td {\n        padding-bottom: 0;\n    }\n\n    .dataframe td {\n        line-height: 95%;\n    }\n</style>\n<table border=\"1\" class=\"dataframe\">\n<small>shape: (10, 6)</small>\n<thead>\n<tr>\n<th>\ntrait\n</th>\n<th>\ntrait_uri\n</th>\n<th>\nstudies\n</th>\n<th>\nassociation_counts\n</th>\n<th>\npapers\n</th>\n<th>\ncurator_comments\n</th>\n</tr>\n<tr>\n<td>\nstr\n</td>\n<td>\nstr\n</td>\n<td>\ni64\n</td>\n<td>\ni64\n</td>\n<td>\ni64\n</td>\n<td>\nstr\n</td>\n</tr>\n</thead>\n<tbody>\n<tr>\n<td>\n&quot;type 2 diabete...\n</td>\n<td>\n&quot;http://purl.ob...\n</td>\n<td>\n175\n</td>\n<td>\n5003\n</td>\n<td>\n175\n</td>\n<td>\n&quot;glucose_homeos...\n</td>\n</tr>\n<tr>\n<td>\n&quot;body mass inde...\n</td>\n<td>\n&quot;http://www.ebi...\n</td>\n<td>\n151\n</td>\n<td>\n8912\n</td>\n<td>\n151\n</td>\n<td>\n&quot;glucose_homeos...\n</td>\n</tr>\n<tr>\n<td>\n&quot;COVID-19&quot;\n</td>\n<td>\n&quot;http://purl.ob...\n</td>\n<td>\n123\n</td>\n<td>\n659\n</td>\n<td>\n123\n</td>\n<td>\n&quot;lung&quot;\n</td>\n</tr>\n<tr>\n<td>\n&quot;asthma&quot;\n</td>\n<td>\n&quot;http://purl.ob...\n</td>\n<td>\n112\n</td>\n<td>\n1475\n</td>\n<td>\n112\n</td>\n<td>\n&quot;lung&quot;\n</td>\n</tr>\n<tr>\n<td>\n&quot;Alzheimer dise...\n</td>\n<td>\n&quot;http://purl.ob...\n</td>\n<td>\n89\n</td>\n<td>\n669\n</td>\n<td>\n89\n</td>\n<td>\n&quot;mental&quot;\n</td>\n</tr>\n<tr>\n<td>\n&quot;bone fracture&quot;\n</td>\n<td>\n&quot;http://www.ebi...\n</td>\n<td>\n85\n</td>\n<td>\n53\n</td>\n<td>\n85\n</td>\n<td>\n&quot;musculoskeleta...\n</td>\n</tr>\n<tr>\n<td>\n&quot;systolic blood...\n</td>\n<td>\n&quot;http://www.ebi...\n</td>\n<td>\n73\n</td>\n<td>\n3435\n</td>\n<td>\n73\n</td>\n<td>\n&quot;cardiovascular...\n</td>\n</tr>\n<tr>\n<td>\n&quot;coronary arter...\n</td>\n<td>\n&quot;http://www.ebi...\n</td>\n<td>\n72\n</td>\n<td>\n2408\n</td>\n<td>\n72\n</td>\n<td>\n&quot;cardiovascular...\n</td>\n</tr>\n<tr>\n<td>\n&quot;diastolic bloo...\n</td>\n<td>\n&quot;http://www.ebi...\n</td>\n<td>\n68\n</td>\n<td>\n2316\n</td>\n<td>\n68\n</td>\n<td>\n&quot;cardiovascular...\n</td>\n</tr>\n<tr>\n<td>\n&quot;osteoarthritis...\n</td>\n<td>\n&quot;http://purl.ob...\n</td>\n<td>\n60\n</td>\n<td>\n99\n</td>\n<td>\n60\n</td>\n<td>\n&quot;musculoskeleta...\n</td>\n</tr>\n</tbody>\n</table>\n</div>"
     },
     "execution_count": 76,
     "metadata": {},
     "output_type": "execute_result"
    }
   ],
   "source": [
    "curator_comments = (\n",
    "    pl.col(\"Olga's comments\")\n",
    "        .str.strip() # steam leading and ending spaces, they are often added accidentally and cause troubles\n",
    "        .str.to_lowercase()\n",
    "        .str.replace(\" \", \"_\") # let's go dash instead of spaces\n",
    "        .str.replace(\"/\", \", \").str.replace(\"\\?\",  \"\") #clean up from some redundant symbols\n",
    "        .str.replace(\"muskuloskeletal\", \"musculoskeletal\").str.replace('musculosceletal', \"musculoskeletal\") # typos correction\n",
    "        .str.replace(\"obesiy\", 'obesity')\n",
    "        .str.replace(\"homeostais\",\"homeostasis\")\n",
    "        .str.replace(\", \", \"_and_\").str.replace(\",\", \"_and_\") #let's first use end and then check if we can go further\n",
    ") # cleaned up olga comments column\n",
    "\n",
    "traits_filtered: pl.DataFrame = traits_df.filter(pl.col(\"Olga's comments\").is_not_null())\\\n",
    "    .with_column(curator_comments).rename({\"Olga's comments\": \"curator_comments\"})\n",
    "traits_filtered.head(10)"
   ],
   "metadata": {
    "collapsed": false
   }
  },
  {
   "cell_type": "code",
   "execution_count": 77,
   "outputs": [
    {
     "data": {
      "text/plain": "shape: (10, 6)\n┌──────────────────┬────────────────────┬───────────────────┬─────────┬───────────────────┬────────┐\n│ curator_comments ┆ trait              ┆ trait_uri         ┆ studies ┆ association_count ┆ papers │\n│ ---              ┆ ---                ┆ ---               ┆ ---     ┆ s                 ┆ ---    │\n│ str              ┆ str                ┆ str               ┆ i64     ┆ ---               ┆ i64    │\n│                  ┆                    ┆                   ┆         ┆ i64               ┆        │\n╞══════════════════╪════════════════════╪═══════════════════╪═════════╪═══════════════════╪════════╡\n│ other            ┆ age-related        ┆ http://www.ebi.ac ┆ 31      ┆ 128               ┆ 31     │\n│                  ┆ macular            ┆ .uk/efo/EFO_000.. ┆         ┆                   ┆        │\n│                  ┆ degeneration       ┆ .                 ┆         ┆                   ┆        │\n├╌╌╌╌╌╌╌╌╌╌╌╌╌╌╌╌╌╌┼╌╌╌╌╌╌╌╌╌╌╌╌╌╌╌╌╌╌╌╌┼╌╌╌╌╌╌╌╌╌╌╌╌╌╌╌╌╌╌╌┼╌╌╌╌╌╌╌╌╌┼╌╌╌╌╌╌╌╌╌╌╌╌╌╌╌╌╌╌╌┼╌╌╌╌╌╌╌╌┤\n│ other            ┆ age at menopause   ┆ http://www.ebi.ac ┆ 22      ┆ 327               ┆ 22     │\n│                  ┆                    ┆ .uk/efo/EFO_000.. ┆         ┆                   ┆        │\n│                  ┆                    ┆ .                 ┆         ┆                   ┆        │\n├╌╌╌╌╌╌╌╌╌╌╌╌╌╌╌╌╌╌┼╌╌╌╌╌╌╌╌╌╌╌╌╌╌╌╌╌╌╌╌┼╌╌╌╌╌╌╌╌╌╌╌╌╌╌╌╌╌╌╌┼╌╌╌╌╌╌╌╌╌┼╌╌╌╌╌╌╌╌╌╌╌╌╌╌╌╌╌╌╌┼╌╌╌╌╌╌╌╌┤\n│ other            ┆ age-related        ┆ http://www.ebi.ac ┆ 13      ┆ 270               ┆ 13     │\n│                  ┆ hearing impairment ┆ .uk/efo/EFO_000.. ┆         ┆                   ┆        │\n│                  ┆                    ┆ .                 ┆         ┆                   ┆        │\n├╌╌╌╌╌╌╌╌╌╌╌╌╌╌╌╌╌╌┼╌╌╌╌╌╌╌╌╌╌╌╌╌╌╌╌╌╌╌╌┼╌╌╌╌╌╌╌╌╌╌╌╌╌╌╌╌╌╌╌┼╌╌╌╌╌╌╌╌╌┼╌╌╌╌╌╌╌╌╌╌╌╌╌╌╌╌╌╌╌┼╌╌╌╌╌╌╌╌┤\n│ other            ┆ menopause          ┆ http://www.ebi.ac ┆ 4       ┆ 0                 ┆ 4      │\n│                  ┆                    ┆ .uk/efo/EFO_000.. ┆         ┆                   ┆        │\n│                  ┆                    ┆ .                 ┆         ┆                   ┆        │\n├╌╌╌╌╌╌╌╌╌╌╌╌╌╌╌╌╌╌┼╌╌╌╌╌╌╌╌╌╌╌╌╌╌╌╌╌╌╌╌┼╌╌╌╌╌╌╌╌╌╌╌╌╌╌╌╌╌╌╌┼╌╌╌╌╌╌╌╌╌┼╌╌╌╌╌╌╌╌╌╌╌╌╌╌╌╌╌╌╌┼╌╌╌╌╌╌╌╌┤\n│ ...              ┆ ...                ┆ ...               ┆ ...     ┆ ...               ┆ ...    │\n├╌╌╌╌╌╌╌╌╌╌╌╌╌╌╌╌╌╌┼╌╌╌╌╌╌╌╌╌╌╌╌╌╌╌╌╌╌╌╌┼╌╌╌╌╌╌╌╌╌╌╌╌╌╌╌╌╌╌╌┼╌╌╌╌╌╌╌╌╌┼╌╌╌╌╌╌╌╌╌╌╌╌╌╌╌╌╌╌╌┼╌╌╌╌╌╌╌╌┤\n│ cardiovascular   ┆ systolic blood     ┆ http://www.ebi.ac ┆ 73      ┆ 3435              ┆ 73     │\n│                  ┆ pressure           ┆ .uk/efo/EFO_000.. ┆         ┆                   ┆        │\n│                  ┆                    ┆ .                 ┆         ┆                   ┆        │\n├╌╌╌╌╌╌╌╌╌╌╌╌╌╌╌╌╌╌┼╌╌╌╌╌╌╌╌╌╌╌╌╌╌╌╌╌╌╌╌┼╌╌╌╌╌╌╌╌╌╌╌╌╌╌╌╌╌╌╌┼╌╌╌╌╌╌╌╌╌┼╌╌╌╌╌╌╌╌╌╌╌╌╌╌╌╌╌╌╌┼╌╌╌╌╌╌╌╌┤\n│ cardiovascular   ┆ coronary artery    ┆ http://www.ebi.ac ┆ 72      ┆ 2408              ┆ 72     │\n│                  ┆ disease            ┆ .uk/efo/EFO_000.. ┆         ┆                   ┆        │\n│                  ┆                    ┆ .                 ┆         ┆                   ┆        │\n├╌╌╌╌╌╌╌╌╌╌╌╌╌╌╌╌╌╌┼╌╌╌╌╌╌╌╌╌╌╌╌╌╌╌╌╌╌╌╌┼╌╌╌╌╌╌╌╌╌╌╌╌╌╌╌╌╌╌╌┼╌╌╌╌╌╌╌╌╌┼╌╌╌╌╌╌╌╌╌╌╌╌╌╌╌╌╌╌╌┼╌╌╌╌╌╌╌╌┤\n│ cardiovascular   ┆ diastolic blood    ┆ http://www.ebi.ac ┆ 68      ┆ 2316              ┆ 68     │\n│                  ┆ pressure           ┆ .uk/efo/EFO_000.. ┆         ┆                   ┆        │\n│                  ┆                    ┆ .                 ┆         ┆                   ┆        │\n├╌╌╌╌╌╌╌╌╌╌╌╌╌╌╌╌╌╌┼╌╌╌╌╌╌╌╌╌╌╌╌╌╌╌╌╌╌╌╌┼╌╌╌╌╌╌╌╌╌╌╌╌╌╌╌╌╌╌╌┼╌╌╌╌╌╌╌╌╌┼╌╌╌╌╌╌╌╌╌╌╌╌╌╌╌╌╌╌╌┼╌╌╌╌╌╌╌╌┤\n│ cardiovascular   ┆ stroke             ┆ http://www.ebi.ac ┆ 46      ┆ 150               ┆ 46     │\n│                  ┆                    ┆ .uk/efo/EFO_000.. ┆         ┆                   ┆        │\n│                  ┆                    ┆ .                 ┆         ┆                   ┆        │\n└──────────────────┴────────────────────┴───────────────────┴─────────┴───────────────────┴────────┘",
      "text/html": "<div>\n<style scoped>\n    .dataframe tbody tr th:only-of-type {\n        vertical-align: middle;\n    }\n\n    .dataframe tbody tr th {\n        vertical-align: top;\n    }\n\n    .dataframe thead th {\n        text-align: right;\n    }\n\n    .dataframe td {\n        white-space: pre;\n    }\n\n    .dataframe td {\n        padding-top: 0;\n    }\n\n    .dataframe td {\n        padding-bottom: 0;\n    }\n\n    .dataframe td {\n        line-height: 95%;\n    }\n</style>\n<table border=\"1\" class=\"dataframe\">\n<small>shape: (10, 6)</small>\n<thead>\n<tr>\n<th>\ncurator_comments\n</th>\n<th>\ntrait\n</th>\n<th>\ntrait_uri\n</th>\n<th>\nstudies\n</th>\n<th>\nassociation_counts\n</th>\n<th>\npapers\n</th>\n</tr>\n<tr>\n<td>\nstr\n</td>\n<td>\nstr\n</td>\n<td>\nstr\n</td>\n<td>\ni64\n</td>\n<td>\ni64\n</td>\n<td>\ni64\n</td>\n</tr>\n</thead>\n<tbody>\n<tr>\n<td>\n&quot;other&quot;\n</td>\n<td>\n&quot;age-related ma...\n</td>\n<td>\n&quot;http://www.ebi...\n</td>\n<td>\n31\n</td>\n<td>\n128\n</td>\n<td>\n31\n</td>\n</tr>\n<tr>\n<td>\n&quot;other&quot;\n</td>\n<td>\n&quot;age at menopau...\n</td>\n<td>\n&quot;http://www.ebi...\n</td>\n<td>\n22\n</td>\n<td>\n327\n</td>\n<td>\n22\n</td>\n</tr>\n<tr>\n<td>\n&quot;other&quot;\n</td>\n<td>\n&quot;age-related he...\n</td>\n<td>\n&quot;http://www.ebi...\n</td>\n<td>\n13\n</td>\n<td>\n270\n</td>\n<td>\n13\n</td>\n</tr>\n<tr>\n<td>\n&quot;other&quot;\n</td>\n<td>\n&quot;menopause&quot;\n</td>\n<td>\n&quot;http://www.ebi...\n</td>\n<td>\n4\n</td>\n<td>\n0\n</td>\n<td>\n4\n</td>\n</tr>\n<tr>\n<td>\n&quot;other&quot;\n</td>\n<td>\n&quot;response to mT...\n</td>\n<td>\n&quot;http://www.ebi...\n</td>\n<td>\n2\n</td>\n<td>\n13\n</td>\n<td>\n2\n</td>\n</tr>\n<tr>\n<td>\n&quot;other&quot;\n</td>\n<td>\n&quot;response to mi...\n</td>\n<td>\n&quot;http://www.ebi...\n</td>\n<td>\n1\n</td>\n<td>\n13\n</td>\n<td>\n1\n</td>\n</tr>\n<tr>\n<td>\n&quot;cardiovascular...\n</td>\n<td>\n&quot;systolic blood...\n</td>\n<td>\n&quot;http://www.ebi...\n</td>\n<td>\n73\n</td>\n<td>\n3435\n</td>\n<td>\n73\n</td>\n</tr>\n<tr>\n<td>\n&quot;cardiovascular...\n</td>\n<td>\n&quot;coronary arter...\n</td>\n<td>\n&quot;http://www.ebi...\n</td>\n<td>\n72\n</td>\n<td>\n2408\n</td>\n<td>\n72\n</td>\n</tr>\n<tr>\n<td>\n&quot;cardiovascular...\n</td>\n<td>\n&quot;diastolic bloo...\n</td>\n<td>\n&quot;http://www.ebi...\n</td>\n<td>\n68\n</td>\n<td>\n2316\n</td>\n<td>\n68\n</td>\n</tr>\n<tr>\n<td>\n&quot;cardiovascular...\n</td>\n<td>\n&quot;stroke&quot;\n</td>\n<td>\n&quot;http://www.ebi...\n</td>\n<td>\n46\n</td>\n<td>\n150\n</td>\n<td>\n46\n</td>\n</tr>\n</tbody>\n</table>\n</div>"
     },
     "execution_count": 77,
     "metadata": {},
     "output_type": "execute_result"
    }
   ],
   "source": [
    "traits_grouped = traits_filtered.groupby(\"curator_comments\").agg(pl.all())\n",
    "traits = traits_grouped.explode([c for c in traits_grouped.columns if c != \"curator_comments\"])\n",
    "traits.head(10)"
   ],
   "metadata": {
    "collapsed": false
   }
  },
  {
   "cell_type": "markdown",
   "source": [
    "## Writing results to folders"
   ],
   "metadata": {
    "collapsed": false
   }
  },
  {
   "cell_type": "markdown",
   "source": [
    "let's clean the output first"
   ],
   "metadata": {
    "collapsed": false
   }
  },
  {
   "cell_type": "code",
   "execution_count": 89,
   "outputs": [],
   "source": [
    "import shutil\n",
    "if output.exists():\n",
    "    shutil.rmtree( output)\n",
    "output.mkdir()"
   ],
   "metadata": {
    "collapsed": false
   }
  },
  {
   "cell_type": "markdown",
   "source": [
    "Let's create folders for modules"
   ],
   "metadata": {
    "collapsed": false
   }
  },
  {
   "cell_type": "code",
   "execution_count": 83,
   "outputs": [
    {
     "data": {
      "text/plain": "['longevity',\n 'lung',\n 'inflammation',\n 'other',\n 'cardiovascular',\n 'glucose_homeostasis_and_obesity',\n 'musculoskeletal',\n 'mental',\n 'metabolic_health_and_obesity']"
     },
     "execution_count": 83,
     "metadata": {},
     "output_type": "execute_result"
    }
   ],
   "source": [
    "modules = traits_filtered.select([pl.col(\"curator_comments\").unique()]).to_series().to_list()\n",
    "modules"
   ],
   "metadata": {
    "collapsed": false
   }
  },
  {
   "cell_type": "code",
   "execution_count": 90,
   "outputs": [
    {
     "name": "stdout",
     "output_type": "stream",
     "text": [
      "writing module longevity to data/output/longevity with traits file data/output/longevity/longevity.tsv\n",
      "writing module lung to data/output/lung with traits file data/output/lung/lung.tsv\n",
      "writing module inflammation to data/output/inflammation with traits file data/output/inflammation/inflammation.tsv\n",
      "writing module other to data/output/other with traits file data/output/other/other.tsv\n",
      "writing module cardiovascular to data/output/cardiovascular with traits file data/output/cardiovascular/cardiovascular.tsv\n",
      "writing module glucose_homeostasis_and_obesity to data/output/glucose_homeostasis_and_obesity with traits file data/output/glucose_homeostasis_and_obesity/glucose_homeostasis_and_obesity.tsv\n",
      "writing module musculoskeletal to data/output/musculoskeletal with traits file data/output/musculoskeletal/musculoskeletal.tsv\n",
      "writing module mental to data/output/mental with traits file data/output/mental/mental.tsv\n",
      "writing module metabolic_health_and_obesity to data/output/metabolic_health_and_obesity with traits file data/output/metabolic_health_and_obesity/metabolic_health_and_obesity.tsv\n"
     ]
    }
   ],
   "source": [
    "for m in modules:\n",
    "    folder = (output / m)\n",
    "    file = folder / (m+\".tsv\")\n",
    "    folder.mkdir()\n",
    "    print(f\"writing module {m} to {folder} with traits file {file}\")\n",
    "    module_df = traits.filter(pl.col('curator_comments') == m)\n",
    "    module_df.write_csv(file = str(file), sep='\\t')\n"
   ],
   "metadata": {
    "collapsed": false
   }
  }
 ],
 "metadata": {
  "kernelspec": {
   "display_name": "Python 3 (ipykernel)",
   "language": "python",
   "name": "python3"
  },
  "language_info": {
   "codemirror_mode": {
    "name": "ipython",
    "version": 3
   },
   "file_extension": ".py",
   "mimetype": "text/x-python",
   "name": "python",
   "nbconvert_exporter": "python",
   "pygments_lexer": "ipython3",
   "version": "3.9.13"
  }
 },
 "nbformat": 4,
 "nbformat_minor": 4
}
